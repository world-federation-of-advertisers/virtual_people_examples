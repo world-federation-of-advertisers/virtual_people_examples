{
  "nbformat": 4,
  "nbformat_minor": 0,
  "metadata": {
    "colab": {
      "name": "Consistent Hashing.ipynb",
      "provenance": [],
      "collapsed_sections": [],
      "include_colab_link": true
    },
    "kernelspec": {
      "name": "python3",
      "display_name": "Python 3"
    },
    "language_info": {
      "name": "python"
    }
  },
  "cells": [
    {
      "cell_type": "markdown",
      "metadata": {
        "id": "view-in-github",
        "colab_type": "text"
      },
      "source": [
        "<a href=\"https://colab.research.google.com/github/EvgSkv/virtual_people_examples/blob/evgenys%2Fdev/notebooks/Consistent_Hashing.ipynb\" target=\"_parent\"><img src=\"https://colab.research.google.com/assets/colab-badge.svg\" alt=\"Open In Colab\"/></a>"
      ]
    },
    {
      "cell_type": "markdown",
      "metadata": {
        "id": "SnLWAdVoxp7l"
      },
      "source": [
        "# Consistent Hashing in Reach Modeling\n",
        "\n",
        "[@evgskv](https://github.com/EvgSkv/)\n",
        "\n",
        "Google LLC\n",
        "\n",
        "May 2021\n",
        "\n",
        "\n",
        "Random choices inside of reach model should be done based on the hash of the user identifier in such a way that small changes of probability distribution should cause a small number of cookies to change the virtual person ID and labels. This is required, so that the model can report on intervals that span across model release with best possible quality.\n",
        "\n",
        "This type of random choice is called _consistent hashing_ and there exists [plenty of literature](https://scholar.google.com/scholar?q=consistent+hashing) on the subject.\n",
        "\n",
        "Here we describe a simple method of making this choice that is linear in the number of options and can accomodate arbitrary desired probability distribution over the options.\n",
        "\n",
        "**Problem:** Given a set of choices $\\{c_0, c_1, \\dots, c_{n-1}\\}$, a probability distribution $p: c_i \\mapsto [0, 1]$, build a hash function $h_p$ with the properties:\n",
        "\n",
        "1) Distribution $p$ is followed, i.e. for a random object $x$  we have $P(h_p(x) = c_i) = p(c_i)$.\n",
        "\n",
        "2) Small change in the probability distribution, causes a small number of objects shuffled. I.e. for distributions $p_1$, $p_2$, if $$\\sum_i |p_1(i) - p_2(i)|$$ is _small_ then $P(h_{p_1}(x) \\neq h_{p_2}(x))$ is _small_ too.\n",
        "\n",
        "\n",
        "Solution that we discuss here naturally follows from [well known property](https://en.wikipedia.org/wiki/Exponential_distribution#Distribution_of_the_minimum_of_exponential_random_variables) of minimum of  _[exponentially](https://en.wikipedia.org/wiki/Exponential_distribution)  distributed_ random variables.\n",
        "\n",
        "\n",
        "\n",
        "**Property:** If $\\xi_1$ is an exponential random variable with rate $\\lambda_1$ and $\\xi_2$ is an exponential random variable with rate $\\lambda_2$ then random variable $\\xi = \\min(\\xi_1, \\xi_2)$ is exponentially distributed with rate $\\lambda = \\lambda_1 + \\lambda_2$.\n",
        "\n",
        "\n",
        "\n",
        "**Corollary:** If $\\xi_1$ and $\\xi_2$ are independent random variables exponentially distributed with rates $\\lambda_1$, $\\lambda_2$ respectively then we have $P(\\xi_1 < \\xi_2) = \\frac{\\lambda_1}{\\lambda_1 + \\lambda_2}$.\n",
        "\n",
        "\n",
        "**Proof of corollary:** \n",
        "\n",
        "Without loss of generality let us assume that rates of the random variables are rational with a common denominator: $\\lambda_1 = \\frac{q}{s}, \\lambda_2 = \\frac{r}{s}.$ Irrational rates can be arbirarily close approximated by rational. In this case we can represent\n",
        "$$\\xi_1 = \\min_{i \\in \\{0, \\dots,\\ q\\}} \\xi'_i, \\ \\ \\xi_2 = \\min_{i \\in \\{0, \\dots,\\ r\\}} \\xi''_i,$$\n",
        "where all of $\\xi'_i$ and all $\\xi''_i$ are mutually independent and are identically exponentially distributed with rate $\\lambda' = \\frac{1}{s}$.\n",
        "Probability that a particular $\\xi'_i$ or $\\xi''_i$ results in the smallest value is equal to to $\\frac{1}{q + r}$ and thus probability that $\\xi_1 < \\xi_2$ is equal to $\\frac{q}{q + r} = \\frac{\\lambda_1}{\\lambda_1 + \\lambda_2}$. **QED**\n",
        "\n",
        "**Solution:** To make a random choice for an object $x$ from options $\\{c_0, c_2, \\dots, c_{n-1}\\}$ and probability distribution $p: c_i \\mapsto [0, 1]$ we hash object $x$ into exponentially distributed random values $\\xi_1, \\dots \\xi_n$ exponentially disrtributed with rates $\\lambda_0 = p(c_0), \\dots, \\lambda_{n-1}=p(c_{n-1})$. Chose object $c_j$ with the index corresponding to $\\xi_j = \\min_i \\xi_i$.\n",
        "\n",
        "To obtain an exponentially distributed hash we pass a uniform hash into real valued $[0, 1]$ segment via inverse CDF function, which assuming that $u$ is a uniform hash function for a rate $\\lambda$ amounts to hashing function $$z_\\lambda(x) = -\\frac{\\log(u(x))}{\\lambda}$$\n",
        "\n",
        "Thus consistent hashing function has the form\n",
        "\n",
        "$$h_p(x) = \\arg \\min_{c_i} z_{p(c_i)}((x, c_i))$$"
      ]
    },
    {
      "cell_type": "code",
      "metadata": {
        "colab": {
          "base_uri": "https://localhost:8080/"
        },
        "id": "LEYh7fTnbttV",
        "outputId": "c0070c41-f020-49a5-8379-e7117cf7514f"
      },
      "source": [
        "!pip install pyfarmhash"
      ],
      "execution_count": null,
      "outputs": [
        {
          "output_type": "stream",
          "text": [
            "Requirement already satisfied: pyfarmhash in /usr/local/lib/python3.7/dist-packages (0.2.2)\n"
          ],
          "name": "stdout"
        }
      ]
    },
    {
      "cell_type": "code",
      "metadata": {
        "id": "iQG22yOIbv91"
      },
      "source": [
        "import farmhash\n",
        "\n",
        "MAX64 = int('1' * 64, 2)\n",
        "\n",
        "def float_hash(x):\n",
        "  return farmhash.hash64(str(x)) / MAX64\n"
      ],
      "execution_count": null,
      "outputs": []
    },
    {
      "cell_type": "code",
      "metadata": {
        "id": "z-eAsDdBxmS9"
      },
      "source": [
        "import farmhash\n",
        "import math\n",
        "from matplotlib import pyplot\n",
        "\n",
        "class ConsistentHashing(object):\n",
        "  def __init__(self, distribution):\n",
        "    self.distribution = distribution\n",
        "\n",
        "  def hash(self, x):\n",
        "    choice = None\n",
        "    choice_xi = 0\n",
        "    for c, p in self.distribution.items():\n",
        "      xi = - math.log(float_hash(\"consistent-hashing-%s-%s\" % (x, c))) / p\n",
        "      if choice is None or choice_xi > xi:\n",
        "        choice = c\n",
        "        choice_xi = xi\n",
        "\n",
        "    return choice\n"
      ],
      "execution_count": null,
      "outputs": []
    },
    {
      "cell_type": "code",
      "metadata": {
        "colab": {
          "base_uri": "https://localhost:8080/",
          "height": 539
        },
        "id": "G9_f4pFa5Yjh",
        "outputId": "5d524780-00bb-4ac2-886f-17eb7dfdc591"
      },
      "source": [
        "# Sanity checking.\n",
        "\n",
        "hashing_1 = ConsistentHashing(\n",
        "    {0: 0.4, 1: 0.2, 2: 0.2, 3: 0.2})\n",
        "choices_1 = list(map(hashing_1.hash, list(range(10000))))\n",
        "pyplot.figure()\n",
        "pyplot.hist(choices_1)\n",
        "\n",
        "hashing_2 = ConsistentHashing(\n",
        "    {0: 0.2, 1: 0.2, 2: 0.2, 3: 0.4})\n",
        "choices_2 = list(map(hashing_2.hash, list(range(10000))))\n",
        "pyplot.figure()\n",
        "pyplot.hist(choices_2)\n",
        "\n",
        "print(\"Choice swaps count:\", sum(x != y for x, y in zip(choices_1, choices_2)))"
      ],
      "execution_count": null,
      "outputs": [
        {
          "output_type": "stream",
          "text": [
            "Choice swaps count: 2746\n"
          ],
          "name": "stdout"
        },
        {
          "output_type": "display_data",
          "data": {
            "image/png": "[encoded data removed]",
            "text/plain": [
              "<Figure size 432x288 with 1 Axes>"
            ]
          },
          "metadata": {
            "tags": [],
            "needs_background": "light"
          }
        },
        {
          "output_type": "display_data",
          "data": {
            "image/png": "[encoded data removed]",
            "text/plain": [
              "<Figure size 432x288 with 1 Axes>"
            ]
          },
          "metadata": {
            "tags": [],
            "needs_background": "light"
          }
        }
      ]
    }
  ]
}